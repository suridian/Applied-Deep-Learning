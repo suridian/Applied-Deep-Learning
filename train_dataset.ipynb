{
  "nbformat": 4,
  "nbformat_minor": 0,
  "metadata": {
    "colab": {
      "name": "train_dataset.ipynb",
      "provenance": [],
      "authorship_tag": "ABX9TyM1XEp5aP7qkEBBp2oW4I51",
      "include_colab_link": true
    },
    "kernelspec": {
      "name": "python3",
      "display_name": "Python 3"
    },
    "language_info": {
      "name": "python"
    }
  },
  "cells": [
    {
      "cell_type": "markdown",
      "metadata": {
        "id": "view-in-github",
        "colab_type": "text"
      },
      "source": [
        "<a href=\"https://colab.research.google.com/github/suridian/Applied-Deep-Learning/blob/main/train_dataset.ipynb\" target=\"_parent\"><img src=\"https://colab.research.google.com/assets/colab-badge.svg\" alt=\"Open In Colab\"/></a>"
      ]
    },
    {
      "cell_type": "markdown",
      "source": [
        "#Connect to Google Drive"
      ],
      "metadata": {
        "id": "DmjF_DLCAC4p"
      }
    },
    {
      "cell_type": "code",
      "source": [
        "from google.colab import drive\n",
        "drive.mount('/content/drive')"
      ],
      "metadata": {
        "colab": {
          "base_uri": "https://localhost:8080/"
        },
        "id": "G6fw2cU97jlT",
        "outputId": "01951445-5fad-4a91-88c2-07eaeaab1d08"
      },
      "execution_count": 3,
      "outputs": [
        {
          "output_type": "stream",
          "name": "stdout",
          "text": [
            "Mounted at /content/drive\n"
          ]
        }
      ]
    },
    {
      "cell_type": "markdown",
      "source": [
        "##Import file from Google Drive"
      ],
      "metadata": {
        "id": "pttkDkAOAIVN"
      }
    },
    {
      "cell_type": "code",
      "source": [
        "!pip install import-ipynb\n",
        "import import_ipynb\n",
        "\n",
        "!pip install -U -q PyDrive\n",
        "from pydrive.auth import GoogleAuth\n",
        "from pydrive.drive import GoogleDrive\n",
        "from google.colab import auth\n",
        "from oauth2client.client import GoogleCredentials\n",
        "\n",
        "# Authenticate and create the PyDrive client.\n",
        "# This only needs to be done once per notebook.\n",
        "auth.authenticate_user()\n",
        "gauth = GoogleAuth()\n",
        "gauth.credentials = GoogleCredentials.get_application_default()\n",
        "drive = GoogleDrive(gauth)\n",
        "module = drive.CreateFile({'id':'1_bGw2qVLG_kRh4pzzceRdVHy82ANnk0C'})\n",
        "module.GetContentFile('trainning_class.ipynb')"
      ],
      "metadata": {
        "colab": {
          "base_uri": "https://localhost:8080/"
        },
        "id": "E33jMDSU74yt",
        "outputId": "2900cdc8-4f7d-4699-ba38-8e78d7631a50"
      },
      "execution_count": 22,
      "outputs": [
        {
          "output_type": "stream",
          "name": "stdout",
          "text": [
            "Requirement already satisfied: import-ipynb in /usr/local/lib/python3.7/dist-packages (0.1.3)\n"
          ]
        }
      ]
    },
    {
      "cell_type": "markdown",
      "source": [
        "##Requirements"
      ],
      "metadata": {
        "id": "Ay7EklMGAQUi"
      }
    },
    {
      "cell_type": "code",
      "execution_count": 26,
      "metadata": {
        "id": "9tIP277f7Jk7"
      },
      "outputs": [],
      "source": [
        "import numpy as np\n",
        "import trainning_class\n",
        "import json\n",
        "import os\n",
        "import sys\n",
        "# from PostProcessing import PostProcessing\n",
        "import glob\n",
        "import shutil\n",
        "import webbrowser\n",
        "import time"
      ]
    },
    {
      "cell_type": "code",
      "source": [
        "param_files = glob.glob(\"aug*.txt\")\n",
        "print(\"I will train on all these parameter files:\\n\")\n",
        "print(*param_files, sep = \"\\n\")"
      ],
      "metadata": {
        "colab": {
          "base_uri": "https://localhost:8080/"
        },
        "id": "WSuw-CKC_OEB",
        "outputId": "fe6cd707-7801-4817-ec06-023af1809924"
      },
      "execution_count": 27,
      "outputs": [
        {
          "output_type": "stream",
          "name": "stdout",
          "text": [
            "I will train on all these parameter files:\n",
            "\n",
            "\n"
          ]
        }
      ]
    },
    {
      "cell_type": "code",
      "source": [
        "for file in param_files:\n",
        "    params = json.load(open(file,'r'))\n",
        "\n",
        "    save_folder = params[\"save_folder\"]\n",
        "    if(os.path.isdir(save_folder)):\n",
        "        rm_folder = input(\"Warning, folder exists! Delete? (y/n) \")\n",
        "        if(rm_folder == \"y\"):\n",
        "            shutil.rmtree(save_folder)\n",
        "        else:\n",
        "            sys.exit()\n",
        "            \n",
        "    os.mkdir(save_folder)\n",
        "\n",
        "    #tensorboard stuff\n",
        "    #tbdir = os.path.join(save_folder, \"tboard\")\n",
        "    #os.mkdir(tbdir)\n",
        "    #os.system(\"killall tensorboard\")\n",
        "    #os.system(\"tensorboard --logdir=\" + tbdir + \" --port=7007 &\")\n",
        "    training = trainning_class.TrainingClass(**params)\n",
        "    try:\n",
        "        training.fit()\n",
        "    except:\n",
        "        print(\"\\n Dying... \\n\")\n",
        "        \n",
        "    print(\"Running post training analysis...\\n\")\n",
        "        \n",
        "    h5_files = np.sort(glob.glob(os.path.join(params[\"save_folder\"], \"*.h5\")))\n",
        "    try:\n",
        "        pp = PostProcessing( h5_files[-1], params[\"data_path\"], device = \"gpu\")\n",
        "    except:\n",
        "        print(\"You haven't trained anything?\")\n",
        "        continue\n",
        "\n",
        "    pfile = open(os.path.join(params[\"save_folder\"],  \"results.txt\"), \"w\")\n",
        "    pfile.write(\"Overall perfomance: \\n\")\n",
        "    accuracy_test, trainable_count = pp.evaluate_overall(device = \"gpu\")\n",
        "    pfile.write(\"Accuracy: {} \\nTrainable parameters: {} \\n\\n\".format(round(accuracy_test,2)*100, trainable_count) )\n",
        "    \n",
        "    pfile.write(\"Performance per class:\\n\")\n",
        "    beam_accuracy, tissue_accuracy, bone_accuracy = pp.evaluate_perclass()\n",
        "    pfile.write(\" Open beam: {} \\n Soft Tissue: {} \\n Bone: {}\\n\\n\".format(round(beam_accuracy,2)*100, round(tissue_accuracy,2)*100, round(bone_accuracy,2)*100))\n",
        "    \n",
        "    pfile.write(\"True Positives and False Positives:\\n\")\n",
        "    tp, fp = pp.tpfp()\n",
        "    pfile.write(\" TP: {} \\n FP {} \\n\\n \".format(round(tp,2)*100, round(fp,2)*100))\n",
        "    \n",
        "    pfile.write(\"Threshold 90% \\n\")\n",
        "    thresh90 = pp.thresholding(0.9)\n",
        "    tp90, fp90 = pp.tpfp(thresh90)\n",
        "    pfile.write(\" TP90: {} \\n FP90 {}\\n \\n \".format(round(tp90,2)*100, round(fp90,2)*100))\n",
        "    \n",
        "    pfile.write(\"Threshold 99% \\n\")\n",
        "    thresh99 = pp.thresholding(0.99)\n",
        "    tp99, fp99 = pp.tpfp(thresh99)\n",
        "    pfile.write(\" TP99: {} \\n FP99 {}\\n \\n \".format(round(tp99,2)*100, round(fp99,2)*100))\n",
        "    \n",
        "    pfile.close()\n",
        "   \n",
        "    lc_fig, lc_ax = pp.learning_curve(os.path.join(params[\"save_folder\"], params[\"name\"] + \".csv\"))\n",
        "    lc_fig.savefig(os.path.join(params[\"save_folder\"], \"learning_curve.png\"))\n",
        "    \n",
        "    rc_fig, rc_ax = pp.ROC_curve()\n",
        "    rc_fig.savefig( os.path.join(params[\"save_folder\"] , \"roc_curve.png\") )"
      ],
      "metadata": {
        "id": "1pTz7apE_SbJ"
      },
      "execution_count": 28,
      "outputs": []
    }
  ]
}